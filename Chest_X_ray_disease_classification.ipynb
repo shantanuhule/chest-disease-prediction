{
 "cells": [
  {
   "cell_type": "code",
   "execution_count": 21,
   "metadata": {
    "id": "y_DPHQg9hazH"
   },
   "outputs": [],
   "source": [
    "import pandas as pd\n",
    "import numpy as np\n",
    "import matplotlib.pyplot as plt\n",
    "import tensorflow as tf\n",
    "import seaborn as sns\n",
    "from tqdm import tqdm\n",
    "import os\n",
    "import cv2\n",
    "import random\n",
    "IMG_SIZE=32"
   ]
  },
  {
   "cell_type": "code",
   "execution_count": 2,
   "metadata": {
    "id": "Qh3TpvL0h6UP"
   },
   "outputs": [],
   "source": []
  },
  {
   "cell_type": "code",
   "execution_count": 3,
   "metadata": {
    "colab": {
     "base_uri": "https://localhost:8080/"
    },
    "id": "fBVenMhxh9O7",
    "outputId": "ca6555d4-e1bb-4ff6-cbaf-7bb00d66c4d7"
   },
   "outputs": [
    {
     "name": "stdout",
     "output_type": "stream",
     "text": [
      "Mounted at /content/drive\n"
     ]
    }
   ],
   "source": [
    "from google.colab import drive\n",
    "drive.mount('/content/drive')"
   ]
  },
  {
   "cell_type": "code",
   "execution_count": 22,
   "metadata": {
    "colab": {
     "base_uri": "https://localhost:8080/"
    },
    "id": "dUK-wK13h-vh",
    "outputId": "1678ea53-5b01-4218-cd7e-72ba46b8ff61"
   },
   "outputs": [
    {
     "name": "stderr",
     "output_type": "stream",
     "text": [
      "100%|██████████| 460/460 [00:22<00:00, 20.64it/s]\n",
      "100%|██████████| 3875/3875 [01:09<00:00, 55.83it/s]\n",
      "100%|██████████| 650/650 [00:08<00:00, 73.17it/s] \n",
      "100%|██████████| 1341/1341 [00:58<00:00, 22.73it/s]\n"
     ]
    }
   ],
   "source": [
    "training_data=[]\n",
    "def train_data():\n",
    "  # labeling diseases\n",
    "  label_covid=[1.0,0.0,0.0,0.0]  #covid\n",
    "  label_pneu=[0.0,1.0,0.0,0.0] #pneumonia\n",
    "  label_tube=[0.0,0.0,1.0,0.0] #turberculosis\n",
    "  label_normal=[0.0,0.0,0.0,1.0] #normal\n",
    "\n",
    "  #path of images\n",
    "  drive_path=['/content/drive/MyDrive/chest x-ray/train/COVID19','/content/drive/MyDrive/chest x-ray/train/PNEUMONIA','/content/drive/MyDrive/chest x-ray/train/TURBERCULOSIS','/content/drive/MyDrive/chest x-ray/train/NORMAL']\n",
    "\n",
    "\n",
    "  #Collecting training data\n",
    "  #Covid\n",
    "  for img in tqdm(os.listdir(drive_path[0])): \n",
    "    path=os.path.join(drive_path[0],img) #joining path of image and covid folder\n",
    "    img=cv2.imread(path,cv2.IMREAD_COLOR) #reading the image\n",
    "    img=cv2.resize(img,(IMG_SIZE,IMG_SIZE)) #resizing the image\n",
    "    training_data.append([np.array(img),np.array(label_covid)]) #trainig data (image,label)\n",
    "  \n",
    "  #pneumonia\n",
    "  for img in tqdm(os.listdir(drive_path[1])):\n",
    "    path=os.path.join(drive_path[1],img)\n",
    "    img=cv2.imread(path,cv2.IMREAD_COLOR)\n",
    "    img=cv2.resize(img,(IMG_SIZE,IMG_SIZE))\n",
    "    training_data.append([np.array(img),np.array(label_pneu)])\n",
    "  #tuberculosis\n",
    "  for img in tqdm(os.listdir(drive_path[2])):\n",
    "    path=os.path.join(drive_path[2],img)\n",
    "    img=cv2.imread(path,cv2.IMREAD_COLOR)\n",
    "    img=cv2.resize(img,(IMG_SIZE,IMG_SIZE))\n",
    "    training_data.append([np.array(img),np.array(label_tube)])    \n",
    "   #normal \n",
    "  for img in tqdm(os.listdir(drive_path[3])):\n",
    "    path=os.path.join(drive_path[3],img)\n",
    "    img=cv2.imread(path,cv2.IMREAD_COLOR)\n",
    "    img=cv2.resize(img,(IMG_SIZE,IMG_SIZE))\n",
    "    training_data.append([np.array(img),np.array(label_normal)])   \n",
    "\n",
    "train_data()"
   ]
  },
  {
   "cell_type": "code",
   "execution_count": 23,
   "metadata": {
    "colab": {
     "base_uri": "https://localhost:8080/"
    },
    "id": "wdS8Ag9Xj-1u",
    "outputId": "256947c8-4333-4b24-c71e-08964737c593"
   },
   "outputs": [
    {
     "name": "stderr",
     "output_type": "stream",
     "text": [
      "100%|██████████| 106/106 [00:08<00:00, 12.67it/s]\n",
      "100%|██████████| 390/390 [00:05<00:00, 67.69it/s]\n",
      "100%|██████████| 41/41 [00:00<00:00, 89.54it/s]\n",
      "100%|██████████| 234/234 [00:06<00:00, 33.62it/s]\n"
     ]
    }
   ],
   "source": [
    "testing_data=[]\n",
    "def test_data():\n",
    "  # labeling diseases\n",
    "  label_covid=[1.0,0.0,0.0,0.0]  #covid\n",
    "  label_pneu=[0.0,1.0,0.0,0.0] #pneumonia\n",
    "  label_tube=[0.0,0.0,1.0,0.0] #turberculosis\n",
    "  label_normal=[0.0,0.0,0.0,1.0] #normal\n",
    "\n",
    "  #path of images\n",
    "  drive_path=['/content/drive/MyDrive/chest x-ray/test/COVID19','/content/drive/MyDrive/chest x-ray/test/PNEUMONIA','/content/drive/MyDrive/chest x-ray/test/TURBERCULOSIS','/content/drive/MyDrive/chest x-ray/test/NORMAL']\n",
    "\n",
    "\n",
    "  #Collecting training data\n",
    "  #Covid\n",
    "  for img in tqdm(os.listdir(drive_path[0])): \n",
    "    path=os.path.join(drive_path[0],img) #joining path of image and covid folder\n",
    "    img=cv2.imread(path,cv2.IMREAD_COLOR) #reading the image\n",
    "    img=cv2.resize(img,(IMG_SIZE,IMG_SIZE)) #resizing the image\n",
    "    testing_data.append([np.array(img),np.array(label_covid)]) #trainig data (image,label)\n",
    "  \n",
    "  #pneumonia\n",
    "  for img in tqdm(os.listdir(drive_path[1])):\n",
    "    path=os.path.join(drive_path[1],img)\n",
    "    img=cv2.imread(path,cv2.IMREAD_COLOR)\n",
    "    img=cv2.resize(img,(IMG_SIZE,IMG_SIZE))\n",
    "    testing_data.append([np.array(img),np.array(label_pneu)])\n",
    "  #tuberculosis\n",
    "  for img in tqdm(os.listdir(drive_path[2])):\n",
    "    path=os.path.join(drive_path[2],img)\n",
    "    img=cv2.imread(path,cv2.IMREAD_COLOR)\n",
    "    img=cv2.resize(img,(IMG_SIZE,IMG_SIZE))\n",
    "    testing_data.append([np.array(img),np.array(label_tube)])    \n",
    "   #normal \n",
    "  for img in tqdm(os.listdir(drive_path[3])):\n",
    "    path=os.path.join(drive_path[3],img)\n",
    "    img=cv2.imread(path,cv2.IMREAD_COLOR)\n",
    "    img=cv2.resize(img,(IMG_SIZE,IMG_SIZE))\n",
    "    testing_data.append([np.array(img),np.array(label_normal)])   \n",
    "\n",
    "test_data()"
   ]
  },
  {
   "cell_type": "code",
   "execution_count": 24,
   "metadata": {
    "colab": {
     "base_uri": "https://localhost:8080/"
    },
    "id": "gbCiaLbIl-Al",
    "outputId": "4e04d528-a016-4f43-96cb-92cfe724cee0"
   },
   "outputs": [
    {
     "name": "stderr",
     "output_type": "stream",
     "text": [
      "100%|██████████| 10/10 [00:00<00:00, 39.85it/s]\n",
      "100%|██████████| 8/8 [00:00<00:00, 66.69it/s]\n",
      "100%|██████████| 12/12 [00:00<00:00, 91.58it/s]\n",
      "100%|██████████| 8/8 [00:00<00:00, 38.21it/s]\n"
     ]
    }
   ],
   "source": [
    "validation_data=[]\n",
    "def val_data():\n",
    "  # labeling diseases\n",
    "  label_covid=[1.0,0.0,0.0,0.0]  #covid\n",
    "  label_pneu=[0.0,1.0,0.0,0.0] #pneumonia\n",
    "  label_tube=[0.0,0.0,1.0,0.0] #turberculosis\n",
    "  label_normal=[0.0,0.0,0.0,1.0] #normal\n",
    "\n",
    "  #path of images\n",
    "  drive_path=['/content/drive/MyDrive/chest x-ray/val/COVID19','/content/drive/MyDrive/chest x-ray/val/PNEUMONIA','/content/drive/MyDrive/chest x-ray/val/TURBERCULOSIS','/content/drive/MyDrive/chest x-ray/val/NORMAL']\n",
    "\n",
    "\n",
    "  #Collecting training data\n",
    "  #Covid\n",
    "  for img in tqdm(os.listdir(drive_path[0])): \n",
    "    path=os.path.join(drive_path[0],img) #joining path of image and covid folder\n",
    "    img=cv2.imread(path,cv2.IMREAD_COLOR) #reading the image\n",
    "    img=cv2.resize(img,(IMG_SIZE,IMG_SIZE)) #resizing the image\n",
    "    validation_data.append([np.array(img),np.array(label_covid)]) #trainig data (image,label)\n",
    "  \n",
    "  #pneumonia\n",
    "  for img in tqdm(os.listdir(drive_path[1])):\n",
    "    path=os.path.join(drive_path[1],img)\n",
    "    img=cv2.imread(path,cv2.IMREAD_COLOR)\n",
    "    img=cv2.resize(img,(IMG_SIZE,IMG_SIZE))\n",
    "    validation_data.append([np.array(img),np.array(label_pneu)])\n",
    "  #tuberculosis\n",
    "  for img in tqdm(os.listdir(drive_path[2])):\n",
    "    path=os.path.join(drive_path[2],img)\n",
    "    img=cv2.imread(path,cv2.IMREAD_COLOR)\n",
    "    img=cv2.resize(img,(IMG_SIZE,IMG_SIZE))\n",
    "    validation_data.append([np.array(img),np.array(label_tube)])    \n",
    "   #normal \n",
    "  for img in tqdm(os.listdir(drive_path[3])):\n",
    "    path=os.path.join(drive_path[3],img)\n",
    "    img=cv2.imread(path,cv2.IMREAD_COLOR)\n",
    "    img=cv2.resize(img,(IMG_SIZE,IMG_SIZE))\n",
    "    validation_data.append([np.array(img),np.array(label_normal)])   \n",
    "\n",
    "val_data()"
   ]
  },
  {
   "cell_type": "code",
   "execution_count": 25,
   "metadata": {
    "colab": {
     "base_uri": "https://localhost:8080/"
    },
    "id": "4MkytBRLmlcj",
    "outputId": "f0102925-4e85-43f1-e681-2abbf694d65d"
   },
   "outputs": [
    {
     "name": "stdout",
     "output_type": "stream",
     "text": [
      "lenght of training data: 6326\n",
      "length of testing data: 771\n",
      "length of validation data: 38\n"
     ]
    }
   ],
   "source": [
    "#shuffling the data\n",
    "from random import shuffle\n",
    "shuffle(training_data)\n",
    "print(\"lenght of training data:\",len(training_data))\n",
    "shuffle(testing_data)\n",
    "print(\"length of testing data:\",len(testing_data))\n",
    "shuffle(validation_data)\n",
    "print(\"length of validation data:\",len(validation_data))"
   ]
  },
  {
   "cell_type": "code",
   "execution_count": 26,
   "metadata": {
    "id": "EhSi7MgMmlY4"
   },
   "outputs": [],
   "source": [
    "# definging the independent and dependant variable\n",
    "\n",
    "#training data\n",
    "X_train=np.array([i[0] for i in training_data])\n",
    "Y_train=np.array([i[1] for i in training_data])\n",
    "\n",
    "#testing data\n",
    "X_test=np.array([i[0] for i in testing_data])\n",
    "Y_test=np.array([i[1] for i in testing_data])\n",
    "\n",
    "#validation data\n",
    "X_val=np.array([i[0] for i in validation_data])\n",
    "Y_val=np.array([i[1] for i in validation_data])\n",
    "\n"
   ]
  },
  {
   "cell_type": "code",
   "execution_count": 27,
   "metadata": {
    "colab": {
     "base_uri": "https://localhost:8080/"
    },
    "id": "7HX_MUu1mlWR",
    "outputId": "b8039b18-f6e4-4575-d36a-51bb22a44efd"
   },
   "outputs": [
    {
     "name": "stdout",
     "output_type": "stream",
     "text": [
      "Shape of X_train: (6326, 32, 32, 3) \n",
      "Shape of Y_train: (6326, 4)\n",
      "Shape of X_test: (771, 32, 32, 3) \n",
      "Shape of Y_test: (771, 4)\n",
      "Shape of X_val: (38, 32, 32, 3) \n",
      "Shape of Y_val: (38, 4)\n"
     ]
    }
   ],
   "source": [
    "print(\"Shape of X_train:\",X_train.shape,\"\\nShape of Y_train:\",Y_train.shape)\n",
    "print(\"Shape of X_test:\",X_test.shape,\"\\nShape of Y_test:\",Y_test.shape)\n",
    "print(\"Shape of X_val:\",X_val.shape,\"\\nShape of Y_val:\",Y_val.shape)"
   ]
  },
  {
   "cell_type": "markdown",
   "metadata": {
    "id": "ufbSJk7CodE0"
   },
   "source": [
    "## **Convolution neural network model**\n",
    "creating a base CNN model: The input layer of shape 200*200 following with the zero-padding, Then a 2D convolution network layer and a Batch Normalization layer of momentum 0.99 and epsilon 0.001, following with the relu Activation Layer and Pooling, Finnaly a Flatten layer and a Dense layer of Softmax Activation function.\n",
    "\n",
    "\n"
   ]
  },
  {
   "cell_type": "code",
   "execution_count": 29,
   "metadata": {
    "colab": {
     "base_uri": "https://localhost:8080/"
    },
    "id": "s9wTlb4bmlTh",
    "outputId": "b0debe20-e4df-4727-bdbb-7f5133e6d76d"
   },
   "outputs": [
    {
     "name": "stdout",
     "output_type": "stream",
     "text": [
      "Epoch 1/50\n",
      "198/198 [==============================] - 13s 61ms/step - loss: 0.4277 - accuracy: 0.8648 - val_loss: 1.2693 - val_accuracy: 0.7134\n",
      "Epoch 2/50\n",
      "198/198 [==============================] - 14s 69ms/step - loss: 0.2143 - accuracy: 0.9241 - val_loss: 0.5894 - val_accuracy: 0.8054\n",
      "Epoch 3/50\n",
      "198/198 [==============================] - 13s 68ms/step - loss: 0.1946 - accuracy: 0.9361 - val_loss: 1.8711 - val_accuracy: 0.6667\n",
      "Epoch 4/50\n",
      "198/198 [==============================] - 13s 66ms/step - loss: 0.1406 - accuracy: 0.9505 - val_loss: 0.8821 - val_accuracy: 0.7860\n",
      "Epoch 5/50\n",
      "198/198 [==============================] - 14s 69ms/step - loss: 0.1325 - accuracy: 0.9532 - val_loss: 1.0101 - val_accuracy: 0.7471\n",
      "Epoch 6/50\n",
      "198/198 [==============================] - 13s 65ms/step - loss: 0.1260 - accuracy: 0.9559 - val_loss: 1.3960 - val_accuracy: 0.7328\n",
      "Epoch 7/50\n",
      "198/198 [==============================] - 12s 60ms/step - loss: 0.1105 - accuracy: 0.9625 - val_loss: 1.4585 - val_accuracy: 0.7380\n",
      "Epoch 8/50\n",
      "198/198 [==============================] - 12s 61ms/step - loss: 0.0803 - accuracy: 0.9722 - val_loss: 0.9587 - val_accuracy: 0.7964\n",
      "Epoch 9/50\n",
      "198/198 [==============================] - 15s 74ms/step - loss: 0.0670 - accuracy: 0.9764 - val_loss: 1.6879 - val_accuracy: 0.7328\n",
      "Epoch 10/50\n",
      "198/198 [==============================] - 15s 75ms/step - loss: 0.0597 - accuracy: 0.9783 - val_loss: 0.4861 - val_accuracy: 0.8599\n",
      "Epoch 11/50\n",
      "198/198 [==============================] - 16s 80ms/step - loss: 0.0561 - accuracy: 0.9807 - val_loss: 1.3387 - val_accuracy: 0.7458\n",
      "Epoch 12/50\n",
      "198/198 [==============================] - 13s 66ms/step - loss: 0.0658 - accuracy: 0.9758 - val_loss: 2.3729 - val_accuracy: 0.5824\n",
      "Epoch 13/50\n",
      "198/198 [==============================] - 12s 61ms/step - loss: 0.0556 - accuracy: 0.9780 - val_loss: 0.9989 - val_accuracy: 0.7899\n",
      "Epoch 14/50\n",
      "198/198 [==============================] - 17s 87ms/step - loss: 0.0462 - accuracy: 0.9844 - val_loss: 1.3152 - val_accuracy: 0.7639\n",
      "Epoch 15/50\n",
      "198/198 [==============================] - 12s 60ms/step - loss: 0.0319 - accuracy: 0.9893 - val_loss: 0.6808 - val_accuracy: 0.8431\n",
      "Epoch 16/50\n",
      "198/198 [==============================] - 12s 62ms/step - loss: 0.0219 - accuracy: 0.9942 - val_loss: 1.9534 - val_accuracy: 0.7354\n",
      "Epoch 17/50\n",
      "198/198 [==============================] - 12s 62ms/step - loss: 0.0325 - accuracy: 0.9891 - val_loss: 0.8004 - val_accuracy: 0.8392\n",
      "Epoch 18/50\n",
      "198/198 [==============================] - 12s 60ms/step - loss: 0.0179 - accuracy: 0.9948 - val_loss: 0.7699 - val_accuracy: 0.8379\n",
      "Epoch 19/50\n",
      "198/198 [==============================] - 12s 60ms/step - loss: 0.0314 - accuracy: 0.9885 - val_loss: 1.0374 - val_accuracy: 0.8184\n",
      "Epoch 20/50\n",
      "198/198 [==============================] - 12s 60ms/step - loss: 0.0691 - accuracy: 0.9782 - val_loss: 2.8189 - val_accuracy: 0.6809\n",
      "Epoch 21/50\n",
      "198/198 [==============================] - 12s 60ms/step - loss: 0.0247 - accuracy: 0.9921 - val_loss: 1.0366 - val_accuracy: 0.8132\n",
      "Epoch 22/50\n",
      "198/198 [==============================] - 12s 61ms/step - loss: 0.0126 - accuracy: 0.9960 - val_loss: 2.0629 - val_accuracy: 0.7665\n",
      "Epoch 23/50\n",
      "198/198 [==============================] - 12s 63ms/step - loss: 0.0255 - accuracy: 0.9905 - val_loss: 1.6934 - val_accuracy: 0.7847\n",
      "Epoch 24/50\n",
      "198/198 [==============================] - 12s 61ms/step - loss: 0.0272 - accuracy: 0.9902 - val_loss: 1.0988 - val_accuracy: 0.8236\n",
      "Epoch 25/50\n",
      "198/198 [==============================] - 12s 60ms/step - loss: 0.0095 - accuracy: 0.9975 - val_loss: 1.9072 - val_accuracy: 0.7575\n",
      "Epoch 26/50\n",
      "198/198 [==============================] - 12s 59ms/step - loss: 0.0051 - accuracy: 0.9987 - val_loss: 2.1795 - val_accuracy: 0.7523\n",
      "Epoch 27/50\n",
      "198/198 [==============================] - 12s 60ms/step - loss: 0.0157 - accuracy: 0.9951 - val_loss: 3.4021 - val_accuracy: 0.7043\n",
      "Epoch 28/50\n",
      "198/198 [==============================] - 12s 60ms/step - loss: 0.0169 - accuracy: 0.9953 - val_loss: 1.6459 - val_accuracy: 0.7717\n",
      "Epoch 29/50\n",
      "198/198 [==============================] - 12s 59ms/step - loss: 0.0131 - accuracy: 0.9953 - val_loss: 2.2450 - val_accuracy: 0.7510\n",
      "Epoch 30/50\n",
      "198/198 [==============================] - 12s 60ms/step - loss: 0.0252 - accuracy: 0.9910 - val_loss: 1.4103 - val_accuracy: 0.8080\n",
      "Epoch 31/50\n",
      "198/198 [==============================] - 12s 59ms/step - loss: 0.0124 - accuracy: 0.9959 - val_loss: 3.3975 - val_accuracy: 0.7043\n",
      "Epoch 32/50\n",
      "198/198 [==============================] - 12s 60ms/step - loss: 0.0306 - accuracy: 0.9904 - val_loss: 0.9972 - val_accuracy: 0.8262\n",
      "Epoch 33/50\n",
      "198/198 [==============================] - 12s 60ms/step - loss: 0.0277 - accuracy: 0.9911 - val_loss: 2.3712 - val_accuracy: 0.7536\n",
      "Epoch 34/50\n",
      "198/198 [==============================] - 12s 59ms/step - loss: 0.0359 - accuracy: 0.9894 - val_loss: 1.5919 - val_accuracy: 0.7886\n",
      "Epoch 35/50\n",
      "198/198 [==============================] - 12s 60ms/step - loss: 0.0086 - accuracy: 0.9972 - val_loss: 1.9075 - val_accuracy: 0.7886\n",
      "Epoch 36/50\n",
      "198/198 [==============================] - 12s 60ms/step - loss: 0.0023 - accuracy: 0.9994 - val_loss: 2.5665 - val_accuracy: 0.7523\n",
      "Epoch 37/50\n",
      "198/198 [==============================] - 12s 60ms/step - loss: 0.0011 - accuracy: 1.0000 - val_loss: 2.1264 - val_accuracy: 0.7899\n",
      "Epoch 38/50\n",
      "198/198 [==============================] - 12s 61ms/step - loss: 6.4385e-04 - accuracy: 1.0000 - val_loss: 2.2591 - val_accuracy: 0.7769\n",
      "Epoch 39/50\n",
      "198/198 [==============================] - 13s 65ms/step - loss: 5.2170e-04 - accuracy: 1.0000 - val_loss: 2.2968 - val_accuracy: 0.7756\n",
      "Epoch 40/50\n",
      "198/198 [==============================] - 14s 73ms/step - loss: 4.6626e-04 - accuracy: 1.0000 - val_loss: 2.0175 - val_accuracy: 0.7938\n",
      "Epoch 41/50\n",
      "198/198 [==============================] - 12s 60ms/step - loss: 3.6282e-04 - accuracy: 1.0000 - val_loss: 2.0584 - val_accuracy: 0.8016\n",
      "Epoch 42/50\n",
      "198/198 [==============================] - 12s 60ms/step - loss: 3.3647e-04 - accuracy: 1.0000 - val_loss: 2.1547 - val_accuracy: 0.7912\n",
      "Epoch 43/50\n",
      "198/198 [==============================] - 12s 60ms/step - loss: 3.2199e-04 - accuracy: 1.0000 - val_loss: 2.1774 - val_accuracy: 0.7925\n",
      "Epoch 44/50\n",
      "198/198 [==============================] - 12s 59ms/step - loss: 3.0648e-04 - accuracy: 1.0000 - val_loss: 2.3177 - val_accuracy: 0.7756\n",
      "Epoch 45/50\n",
      "198/198 [==============================] - 12s 60ms/step - loss: 3.0031e-04 - accuracy: 1.0000 - val_loss: 2.4333 - val_accuracy: 0.7717\n",
      "Epoch 46/50\n",
      "198/198 [==============================] - 12s 60ms/step - loss: 2.3527e-04 - accuracy: 1.0000 - val_loss: 2.2987 - val_accuracy: 0.7808\n",
      "Epoch 47/50\n",
      "198/198 [==============================] - 12s 60ms/step - loss: 2.1473e-04 - accuracy: 1.0000 - val_loss: 2.2112 - val_accuracy: 0.7938\n",
      "Epoch 48/50\n",
      "198/198 [==============================] - 12s 60ms/step - loss: 2.0475e-04 - accuracy: 1.0000 - val_loss: 2.3349 - val_accuracy: 0.7834\n",
      "Epoch 49/50\n",
      "198/198 [==============================] - 12s 60ms/step - loss: 1.9480e-04 - accuracy: 1.0000 - val_loss: 2.4962 - val_accuracy: 0.7704\n",
      "Epoch 50/50\n",
      "198/198 [==============================] - 12s 60ms/step - loss: 4.6723e-04 - accuracy: 0.9998 - val_loss: 2.6060 - val_accuracy: 0.7354\n"
     ]
    }
   ],
   "source": [
    "#cnn model\n",
    "\n",
    "def cnn_model():\n",
    "  model=tf.keras.Sequential([tf.keras.layers.InputLayer((IMG_SIZE,IMG_SIZE,3)),\n",
    "                             \n",
    "                             tf.keras.layers.ZeroPadding2D(padding=(3,3)),\n",
    "\n",
    "                             tf.keras.layers.Conv2D(filters=32,kernel_size=7,strides=(1,1)),\n",
    "\n",
    "                             tf.keras.layers.BatchNormalization(axis=-1, momentum=0.99, epsilon=0.001,beta_initializer='zeros', gamma_initializer='ones',moving_mean_initializer='zeros',moving_variance_initializer='ones'),\n",
    "\n",
    "                             tf.keras.layers.ReLU(),\n",
    "\n",
    "                             tf.keras.layers.MaxPooling2D(pool_size=(2, 2), strides=(2,2), padding='valid'),\n",
    "\n",
    "                             tf.keras.layers.Flatten(),\n",
    "\n",
    "                             tf.keras.layers.Dense(4,activation='softmax'),                             \n",
    "                             \n",
    "                             ])\n",
    "  return model\n",
    "\n",
    "conv_model=cnn_model() #calling the model\n",
    "conv_model.compile(optimizer='adam',\n",
    "                  loss='categorical_crossentropy',\n",
    "                  metrics=['accuracy']) #compliing the model\n",
    "\n",
    "history=conv_model.fit(x=X_train,y=Y_train,epochs=50,validation_data=(X_test,Y_test),batch_size=32) #fitting the CNN model"
   ]
  },
  {
   "cell_type": "code",
   "execution_count": 30,
   "metadata": {
    "colab": {
     "base_uri": "https://localhost:8080/",
     "height": 573
    },
    "id": "_XBfOhP0orL8",
    "outputId": "82d43d37-5c8e-43c9-e000-6cf85af9c682"
   },
   "outputs": [
    {
     "data": {
      "image/png": "[encoded data removed]",
      "text/plain": [
       "<Figure size 432x288 with 1 Axes>"
      ]
     },
     "metadata": {
      "needs_background": "light"
     },
     "output_type": "display_data"
    },
    {
     "data": {
      "image/png": "[encoded data removed]",
      "text/plain": [
       "<Figure size 432x288 with 1 Axes>"
      ]
     },
     "metadata": {
      "needs_background": "light"
     },
     "output_type": "display_data"
    }
   ],
   "source": [
    "# summarize history for accuracy\n",
    "plt.plot(history.history['accuracy'])\n",
    "plt.plot(history.history['val_accuracy'])\n",
    "plt.title('model accuracy')\n",
    "plt.ylabel('accuracy')\n",
    "plt.xlabel('epoch')\n",
    "plt.legend(['train', 'test'], loc='upper left')\n",
    "plt.show()\n",
    "# summarize history for loss\n",
    "plt.plot(history.history['loss'])\n",
    "plt.plot(history.history['val_loss'])\n",
    "plt.title('model loss')\n",
    "plt.ylabel('loss')\n",
    "plt.xlabel('epoch')\n",
    "plt.legend(['train', 'test'], loc='upper left')\n",
    "plt.show()"
   ]
  },
  {
   "cell_type": "code",
   "execution_count": 19,
   "metadata": {
    "colab": {
     "base_uri": "https://localhost:8080/"
    },
    "id": "HKr1uOz4o-0o",
    "outputId": "48af8e2a-00e3-4129-e3dd-b6b1ddb03b7f"
   },
   "outputs": [
    {
     "name": "stdout",
     "output_type": "stream",
     "text": [
      "25/25 [==============================] - 14s 569ms/step - loss: 37.1599 - accuracy: 0.7185\n"
     ]
    },
    {
     "data": {
      "text/plain": [
       "[37.15993881225586, 0.7185473442077637]"
      ]
     },
     "execution_count": 19,
     "metadata": {},
     "output_type": "execute_result"
    }
   ],
   "source": [
    "conv_model.save('convolution_model.h5') #Saving the CNN model\n",
    "conv_model.evaluate(X_test,Y_test) #Evaluating the CNN model"
   ]
  },
  {
   "cell_type": "markdown",
   "metadata": {
    "id": "7g3OFwWhpEL6"
   },
   "source": [
    "## **DenseNet Model**\n",
    "Downloading the pretrained weights for the DenseNet121 model, Changing the input shape for the top layer, adding the Global-Average-pooling layer and then adding a Dense layer of Softmax Activation layer."
   ]
  },
  {
   "cell_type": "code",
   "execution_count": 31,
   "metadata": {
    "colab": {
     "base_uri": "https://localhost:8080/"
    },
    "id": "ANrj8TUyo-xG",
    "outputId": "6eb3f5c4-f3d2-459c-c9c0-a86172665618"
   },
   "outputs": [
    {
     "name": "stdout",
     "output_type": "stream",
     "text": [
      "Epoch 1/5\n",
      "198/198 [==============================] - 149s 686ms/step - loss: 0.2928 - accuracy: 0.9003 - val_loss: 4.1176 - val_accuracy: 0.7588\n",
      "Epoch 2/5\n",
      "198/198 [==============================] - 127s 643ms/step - loss: 0.1368 - accuracy: 0.9519 - val_loss: 0.5320 - val_accuracy: 0.8145\n",
      "Epoch 3/5\n",
      "198/198 [==============================] - 128s 646ms/step - loss: 0.2018 - accuracy: 0.9380 - val_loss: 2.0146 - val_accuracy: 0.5694\n",
      "Epoch 4/5\n",
      "198/198 [==============================] - 128s 649ms/step - loss: 0.1173 - accuracy: 0.9647 - val_loss: 0.6660 - val_accuracy: 0.7834\n",
      "Epoch 5/5\n",
      "198/198 [==============================] - 128s 646ms/step - loss: 0.0703 - accuracy: 0.9774 - val_loss: 0.6323 - val_accuracy: 0.8288\n"
     ]
    }
   ],
   "source": [
    "#DenseNet model\n",
    "\n",
    "base_model=tf.keras.applications.densenet.DenseNet121(weights=r'imagenet', include_top=False,input_shape=(IMG_SIZE,IMG_SIZE,3))\n",
    "\n",
    "x=(base_model.output)\n",
    "\n",
    "x = tf.keras.layers.GlobalAveragePooling2D()(x)\n",
    "\n",
    "predictions = tf.keras.layers.Dense(4, activation=\"softmax\")(x)\n",
    "\n",
    "densenet_model = tf.keras.models.Model(inputs=base_model.input, outputs=predictions)\n",
    "densenet_model.compile(optimizer='adam', loss='CategoricalCrossentropy', metrics=['accuracy']) #compiling the DenseNet model\n",
    "history=densenet_model.fit(x=X_train,y=Y_train,batch_size=32,validation_data=(X_test,Y_test),epochs=5) #Fitting the DenseNet model\n"
   ]
  },
  {
   "cell_type": "code",
   "execution_count": 32,
   "metadata": {
    "colab": {
     "base_uri": "https://localhost:8080/",
     "height": 573
    },
    "id": "bm7_xBb2o-uH",
    "outputId": "c46caf8e-0390-4cd7-c2c7-f8af6092d551"
   },
   "outputs": [
    {
     "data": {
      "image/png": "[encoded data removed]",
      "text/plain": [
       "<Figure size 432x288 with 1 Axes>"
      ]
     },
     "metadata": {
      "needs_background": "light"
     },
     "output_type": "display_data"
    },
    {
     "data": {
      "image/png": "[encoded data removed]",
      "text/plain": [
       "<Figure size 432x288 with 1 Axes>"
      ]
     },
     "metadata": {
      "needs_background": "light"
     },
     "output_type": "display_data"
    }
   ],
   "source": [
    "# summarize history for accuracy\n",
    "plt.plot(history.history['accuracy'])\n",
    "plt.plot(history.history['val_accuracy'])\n",
    "plt.title('model accuracy')\n",
    "plt.ylabel('accuracy')\n",
    "plt.xlabel('epoch')\n",
    "plt.legend(['train', 'test'], loc='upper left')\n",
    "plt.show()\n",
    "# summarize history for loss\n",
    "plt.plot(history.history['loss'])\n",
    "plt.plot(history.history['val_loss'])\n",
    "plt.title('model loss')\n",
    "plt.ylabel('loss')\n",
    "plt.xlabel('epoch')\n",
    "plt.legend(['train', 'test'], loc='upper left')\n",
    "plt.show()"
   ]
  },
  {
   "cell_type": "code",
   "execution_count": 45,
   "metadata": {
    "colab": {
     "base_uri": "https://localhost:8080/"
    },
    "id": "xIwMzRPAo-rR",
    "outputId": "11033f3c-290f-447b-82b8-cba6f2051b40"
   },
   "outputs": [
    {
     "name": "stdout",
     "output_type": "stream",
     "text": [
      "25/25 [==============================] - 3s 120ms/step - loss: 0.6323 - accuracy: 0.8288\n"
     ]
    },
    {
     "data": {
      "text/plain": [
       "[0.632262647151947, 0.8287937641143799]"
      ]
     },
     "execution_count": 45,
     "metadata": {},
     "output_type": "execute_result"
    }
   ],
   "source": [
    "densenet_model.save('/content/drive/MyDrive/chest x-ray/models/DenseNet_model.h5') #Saving the DenseNet model\n",
    "densenet_model.evaluate(X_test,Y_test) #evaluating the DenseNet model\n"
   ]
  },
  {
   "cell_type": "markdown",
   "metadata": {
    "id": "QLQP_0jNrkGn"
   },
   "source": [
    "## **Efficientnet_v2**"
   ]
  },
  {
   "cell_type": "code",
   "execution_count": 34,
   "metadata": {
    "colab": {
     "base_uri": "https://localhost:8080/"
    },
    "id": "s9NDNAPVo-oi",
    "outputId": "fdc2e428-4b27-4153-860d-3b9537ffb4aa"
   },
   "outputs": [
    {
     "name": "stdout",
     "output_type": "stream",
     "text": [
      "Downloading data from https://storage.googleapis.com/tensorflow/keras-applications/efficientnet_v2/efficientnetv2-b0_notop.h5\n",
      "24281088/24274472 [==============================] - 0s 0us/step\n",
      "24289280/24274472 [==============================] - 0s 0us/step\n",
      "Epoch 1/5\n",
      "198/198 [==============================] - 97s 436ms/step - loss: 0.4241 - accuracy: 0.8525 - val_loss: 0.8124 - val_accuracy: 0.7626\n",
      "Epoch 2/5\n",
      "198/198 [==============================] - 89s 451ms/step - loss: 0.1627 - accuracy: 0.9450 - val_loss: 0.7139 - val_accuracy: 0.8314\n",
      "Epoch 3/5\n",
      "198/198 [==============================] - 89s 450ms/step - loss: 0.1096 - accuracy: 0.9682 - val_loss: 0.7644 - val_accuracy: 0.8119\n",
      "Epoch 4/5\n",
      "198/198 [==============================] - 88s 445ms/step - loss: 0.0759 - accuracy: 0.9749 - val_loss: 0.9145 - val_accuracy: 0.8016\n",
      "Epoch 5/5\n",
      "198/198 [==============================] - 89s 450ms/step - loss: 0.0727 - accuracy: 0.9744 - val_loss: 0.9202 - val_accuracy: 0.8042\n"
     ]
    }
   ],
   "source": [
    "#efficientnet_v2\n",
    "\n",
    "base_model=tf.keras.applications.efficientnet_v2.EfficientNetV2B0(weights=r'imagenet', include_top=False,input_shape=(IMG_SIZE,IMG_SIZE,3))\n",
    "\n",
    "x=(base_model.output)\n",
    "\n",
    "x = tf.keras.layers.GlobalAveragePooling2D()(x)\n",
    "\n",
    "predictions = tf.keras.layers.Dense(4, activation=\"softmax\")(x)\n",
    "\n",
    "efficientnet_model = tf.keras.models.Model(inputs=base_model.input, outputs=predictions)\n",
    "efficientnet_model.compile(optimizer='adam', loss='CategoricalCrossentropy', metrics=['accuracy']) #compiling the DenseNet model\n",
    "history=efficientnet_model.fit(x=X_train,y=Y_train,batch_size=32,validation_data=(X_test,Y_test),epochs=5) #Fitting the DenseNet model\n"
   ]
  },
  {
   "cell_type": "code",
   "execution_count": 35,
   "metadata": {
    "colab": {
     "base_uri": "https://localhost:8080/",
     "height": 573
    },
    "id": "oPBWdOmRo-lT",
    "outputId": "ebe9feb1-0fea-490f-8fed-4919a29df8e0"
   },
   "outputs": [
    {
     "data": {
      "image/png": "[encoded data removed]",
      "text/plain": [
       "<Figure size 432x288 with 1 Axes>"
      ]
     },
     "metadata": {
      "needs_background": "light"
     },
     "output_type": "display_data"
    },
    {
     "data": {
      "image/png": "[encoded data removed]",
      "text/plain": [
       "<Figure size 432x288 with 1 Axes>"
      ]
     },
     "metadata": {
      "needs_background": "light"
     },
     "output_type": "display_data"
    }
   ],
   "source": [
    "# summarize history for accuracy\n",
    "plt.plot(history.history['accuracy'])\n",
    "plt.plot(history.history['val_accuracy'])\n",
    "plt.title('model accuracy')\n",
    "plt.ylabel('accuracy')\n",
    "plt.xlabel('epoch')\n",
    "plt.legend(['train', 'test'], loc='upper left')\n",
    "plt.show()\n",
    "# summarize history for loss\n",
    "plt.plot(history.history['loss'])\n",
    "plt.plot(history.history['val_loss'])\n",
    "plt.title('model loss')\n",
    "plt.ylabel('loss')\n",
    "plt.xlabel('epoch')\n",
    "plt.legend(['train', 'test'], loc='upper left')\n",
    "plt.show()"
   ]
  },
  {
   "cell_type": "code",
   "execution_count": 36,
   "metadata": {
    "colab": {
     "base_uri": "https://localhost:8080/"
    },
    "id": "h_vHxqaxslXh",
    "outputId": "7a3bdb0d-683a-483f-cc90-afd402cc179c"
   },
   "outputs": [
    {
     "name": "stdout",
     "output_type": "stream",
     "text": [
      "25/25 [==============================] - 1s 51ms/step - loss: 0.9202 - accuracy: 0.8042\n"
     ]
    },
    {
     "data": {
      "text/plain": [
       "[0.9202330112457275, 0.8041504621505737]"
      ]
     },
     "execution_count": 36,
     "metadata": {},
     "output_type": "execute_result"
    }
   ],
   "source": [
    "efficientnet_model.save('Efficientnet_model.h5') #Saving \n",
    "efficientnet_model.evaluate(X_test,Y_test) #evaluating \n"
   ]
  },
  {
   "cell_type": "markdown",
   "metadata": {
    "id": "QLwBcabayE1U"
   },
   "source": [
    "## **MobileNetV2**"
   ]
  },
  {
   "cell_type": "code",
   "execution_count": 39,
   "metadata": {
    "colab": {
     "base_uri": "https://localhost:8080/"
    },
    "id": "-ZBVXwgItMqg",
    "outputId": "54802703-bfcc-4e8f-acba-806cf1c9b0e5"
   },
   "outputs": [
    {
     "name": "stdout",
     "output_type": "stream",
     "text": [
      "WARNING:tensorflow:`input_shape` is undefined or non-square, or `rows` is not in [96, 128, 160, 192, 224]. Weights for input shape (224, 224) will be loaded as the default.\n",
      "Epoch 1/5\n",
      "198/198 [==============================] - 57s 263ms/step - loss: 0.5324 - accuracy: 0.8244 - val_loss: 22.1293 - val_accuracy: 0.5058\n",
      "Epoch 2/5\n",
      "198/198 [==============================] - 51s 258ms/step - loss: 0.2512 - accuracy: 0.9102 - val_loss: 10.2159 - val_accuracy: 0.5058\n",
      "Epoch 3/5\n",
      "198/198 [==============================] - 52s 263ms/step - loss: 0.1873 - accuracy: 0.9377 - val_loss: 10.0063 - val_accuracy: 0.5058\n",
      "Epoch 4/5\n",
      "198/198 [==============================] - 52s 263ms/step - loss: 0.1711 - accuracy: 0.9418 - val_loss: 9.1128 - val_accuracy: 0.5058\n",
      "Epoch 5/5\n",
      "198/198 [==============================] - 52s 261ms/step - loss: 0.1473 - accuracy: 0.9531 - val_loss: 11.1258 - val_accuracy: 0.5058\n"
     ]
    }
   ],
   "source": [
    "#MobileNetV2\n",
    "\n",
    "base_model=tf.keras.applications.mobilenet_v2.MobileNetV2(weights=r'imagenet', include_top=False,input_shape=(IMG_SIZE,IMG_SIZE,3))\n",
    "\n",
    "x=(base_model.output)\n",
    "\n",
    "x = tf.keras.layers.GlobalAveragePooling2D()(x)\n",
    "\n",
    "predictions = tf.keras.layers.Dense(4, activation=\"softmax\")(x)\n",
    "\n",
    "MobileNetV2_model = tf.keras.models.Model(inputs=base_model.input, outputs=predictions)\n",
    "MobileNetV2_model.compile(optimizer='adam', loss='CategoricalCrossentropy', metrics=['accuracy']) #compiling the DenseNet model\n",
    "history=MobileNetV2_model.fit(x=X_train,y=Y_train,batch_size=32,validation_data=(X_test,Y_test),epochs=5) #Fitting the DenseNet model\n"
   ]
  },
  {
   "cell_type": "code",
   "execution_count": 40,
   "metadata": {
    "colab": {
     "base_uri": "https://localhost:8080/",
     "height": 573
    },
    "id": "RePCwIXvtMnD",
    "outputId": "94fe941d-87eb-454a-9a8e-a00f0f2a1ffa"
   },
   "outputs": [
    {
     "data": {
      "image/png": "[encoded data removed]",
      "text/plain": [
       "<Figure size 432x288 with 1 Axes>"
      ]
     },
     "metadata": {
      "needs_background": "light"
     },
     "output_type": "display_data"
    },
    {
     "data": {
      "image/png": "[encoded data removed]",
      "text/plain": [
       "<Figure size 432x288 with 1 Axes>"
      ]
     },
     "metadata": {
      "needs_background": "light"
     },
     "output_type": "display_data"
    }
   ],
   "source": [
    "# summarize history for accuracy\n",
    "plt.plot(history.history['accuracy'])\n",
    "plt.plot(history.history['val_accuracy'])\n",
    "plt.title('model accuracy')\n",
    "plt.ylabel('accuracy')\n",
    "plt.xlabel('epoch')\n",
    "plt.legend(['train', 'test'], loc='upper left')\n",
    "plt.show()\n",
    "# summarize history for loss\n",
    "plt.plot(history.history['loss'])\n",
    "plt.plot(history.history['val_loss'])\n",
    "plt.title('model loss')\n",
    "plt.ylabel('loss')\n",
    "plt.xlabel('epoch')\n",
    "plt.legend(['train', 'test'], loc='upper left')\n",
    "plt.show()"
   ]
  },
  {
   "cell_type": "code",
   "execution_count": 41,
   "metadata": {
    "colab": {
     "base_uri": "https://localhost:8080/"
    },
    "id": "P7P-r7HItMjl",
    "outputId": "b0f3e295-9b44-4f9b-a167-d6df564dcdab"
   },
   "outputs": [
    {
     "name": "stdout",
     "output_type": "stream",
     "text": [
      "25/25 [==============================] - 1s 32ms/step - loss: 11.1258 - accuracy: 0.5058\n"
     ]
    },
    {
     "data": {
      "text/plain": [
       "[11.125798225402832, 0.505836546421051]"
      ]
     },
     "execution_count": 41,
     "metadata": {},
     "output_type": "execute_result"
    }
   ],
   "source": [
    "MobileNetV2_model.save('MobileNetV2_model.h5') #Saving \n",
    "MobileNetV2_model.evaluate(X_test,Y_test) #evaluating \n"
   ]
  },
  {
   "cell_type": "markdown",
   "metadata": {
    "id": "CkghSRDRy8Iw"
   },
   "source": [
    "## **ResNet50**"
   ]
  },
  {
   "cell_type": "code",
   "execution_count": 42,
   "metadata": {
    "colab": {
     "base_uri": "https://localhost:8080/"
    },
    "id": "HdSnzRTrykuf",
    "outputId": "921ec267-e97a-4a09-d2c2-1083bd4350db"
   },
   "outputs": [
    {
     "name": "stdout",
     "output_type": "stream",
     "text": [
      "Downloading data from https://storage.googleapis.com/tensorflow/keras-applications/resnet/resnet50_weights_tf_dim_ordering_tf_kernels_notop.h5\n",
      "94773248/94765736 [==============================] - 1s 0us/step\n",
      "94781440/94765736 [==============================] - 1s 0us/step\n",
      "Epoch 1/5\n",
      "198/198 [==============================] - 465s 2s/step - loss: 0.4315 - accuracy: 0.8773 - val_loss: 0.7356 - val_accuracy: 0.8353\n",
      "Epoch 2/5\n",
      "198/198 [==============================] - 455s 2s/step - loss: 0.2609 - accuracy: 0.9187 - val_loss: 1.2330 - val_accuracy: 0.7380\n",
      "Epoch 3/5\n",
      "198/198 [==============================] - 452s 2s/step - loss: 0.1625 - accuracy: 0.9478 - val_loss: 0.7886 - val_accuracy: 0.8132\n",
      "Epoch 4/5\n",
      "198/198 [==============================] - 453s 2s/step - loss: 0.1037 - accuracy: 0.9654 - val_loss: 1.0186 - val_accuracy: 0.7393\n",
      "Epoch 5/5\n",
      "198/198 [==============================] - 452s 2s/step - loss: 0.0821 - accuracy: 0.9738 - val_loss: 0.8042 - val_accuracy: 0.8171\n"
     ]
    }
   ],
   "source": [
    "#ResNet50\n",
    "\n",
    "base_model=tf.keras.applications.resnet50.ResNet50(weights=r'imagenet', include_top=False,input_shape=(IMG_SIZE,IMG_SIZE,3))\n",
    "\n",
    "x=(base_model.output)\n",
    "\n",
    "x = tf.keras.layers.GlobalAveragePooling2D()(x)\n",
    "\n",
    "predictions = tf.keras.layers.Dense(4, activation=\"softmax\")(x)\n",
    "\n",
    "ResNet50_model = tf.keras.models.Model(inputs=base_model.input, outputs=predictions)\n",
    "ResNet50_model.compile(optimizer='adam', loss='CategoricalCrossentropy', metrics=['accuracy']) #compiling the DenseNet model\n",
    "history=ResNet50_model.fit(x=X_train,y=Y_train,batch_size=32,validation_data=(X_test,Y_test),epochs=5) #Fitting the DenseNet model\n"
   ]
  },
  {
   "cell_type": "code",
   "execution_count": 43,
   "metadata": {
    "colab": {
     "base_uri": "https://localhost:8080/",
     "height": 573
    },
    "id": "btJXCNBDykrr",
    "outputId": "42bcb2d3-2a3c-4731-a114-158e4bac77f0"
   },
   "outputs": [
    {
     "data": {
      "image/png": "[encoded data removed]",
      "text/plain": [
       "<Figure size 432x288 with 1 Axes>"
      ]
     },
     "metadata": {
      "needs_background": "light"
     },
     "output_type": "display_data"
    },
    {
     "data": {
      "image/png": "[encoded data removed]",
      "text/plain": [
       "<Figure size 432x288 with 1 Axes>"
      ]
     },
     "metadata": {
      "needs_background": "light"
     },
     "output_type": "display_data"
    }
   ],
   "source": [
    "# summarize history for accuracy\n",
    "plt.plot(history.history['accuracy'])\n",
    "plt.plot(history.history['val_accuracy'])\n",
    "plt.title('model accuracy')\n",
    "plt.ylabel('accuracy')\n",
    "plt.xlabel('epoch')\n",
    "plt.legend(['train', 'test'], loc='upper left')\n",
    "plt.show()\n",
    "# summarize history for loss\n",
    "plt.plot(history.history['loss'])\n",
    "plt.plot(history.history['val_loss'])\n",
    "plt.title('model loss')\n",
    "plt.ylabel('loss')\n",
    "plt.xlabel('epoch')\n",
    "plt.legend(['train', 'test'], loc='upper left')\n",
    "plt.show()"
   ]
  },
  {
   "cell_type": "code",
   "execution_count": 44,
   "metadata": {
    "colab": {
     "base_uri": "https://localhost:8080/"
    },
    "id": "naz753q3ykp4",
    "outputId": "bcb553a4-31ca-469e-abb1-710cb15b158e"
   },
   "outputs": [
    {
     "name": "stdout",
     "output_type": "stream",
     "text": [
      "25/25 [==============================] - 3s 137ms/step - loss: 0.8042 - accuracy: 0.8171\n"
     ]
    },
    {
     "data": {
      "text/plain": [
       "[0.8041804432868958, 0.8171206116676331]"
      ]
     },
     "execution_count": 44,
     "metadata": {},
     "output_type": "execute_result"
    }
   ],
   "source": [
    "ResNet50_model.save('ResNet50_model.h5') #Saving \n",
    "ResNet50_model.evaluate(X_test,Y_test) #evaluating \n"
   ]
  },
  {
   "cell_type": "code",
   "execution_count": 54,
   "metadata": {
    "id": "Vv7R0QM9yklW"
   },
   "outputs": [],
   "source": [
    "# Defining the process function for processing the imaes while testing \n",
    "def process(path):\n",
    "  img=cv2.imread(path,cv2.IMREAD_COLOR)\n",
    "  img=cv2.resize(img,(32,32))\n",
    "  x=img\n",
    "  img=np.expand_dims(img,axis=0)\n",
    "  return img,x\n",
    "def pred_list(pred):\n",
    "  pred_list=[]\n",
    "  for i in pred[0]:\n",
    "    x=format(i,'.8f')\n",
    "    pred_list.append(x)\n",
    "  return pred_list\n",
    "\n",
    "def disease(pred_list):\n",
    "  x=np.argmax(pred_list)\n",
    "  if x==0:\n",
    "    print(\"Disease: Covid\")\n",
    "  elif x==1:\n",
    "    print(\"Disease: Pneumonia\")\n",
    "  elif x==2:\n",
    "    print(\"Disease: Turberculosis\")\n",
    "  elif x==3:\n",
    "    print(\"Normal\")\n",
    "    \n",
    "  "
   ]
  },
  {
   "cell_type": "code",
   "execution_count": 57,
   "metadata": {
    "colab": {
     "base_uri": "https://localhost:8080/",
     "height": 318
    },
    "id": "6sJUk9H7E3N9",
    "outputId": "617db040-3020-49e0-9d18-d0d403fe3872"
   },
   "outputs": [
    {
     "name": "stdout",
     "output_type": "stream",
     "text": [
      "['0.00010568', '0.99940252', '0.00034878', '0.00014292']\n",
      "Disease: Pneumonia\n"
     ]
    },
    {
     "data": {
      "text/plain": [
       "<matplotlib.image.AxesImage at 0x7f5666a82a10>"
      ]
     },
     "execution_count": 57,
     "metadata": {},
     "output_type": "execute_result"
    },
    {
     "data": {
      "image/png": "[encoded data removed]",
      "text/plain": [
       "<Figure size 432x288 with 1 Axes>"
      ]
     },
     "metadata": {
      "needs_background": "light"
     },
     "output_type": "display_data"
    }
   ],
   "source": [
    "path='/content/drive/MyDrive/chest x-ray/test/PNEUMONIA/person100_bacteria_475.jpeg'\n",
    "img,x=process(path)\n",
    "pred=densenet_model.predict(img)\n",
    "pred=pred_list(pred)\n",
    "print(pred)\n",
    "disease(pred)\n",
    "plt.imshow(x)"
   ]
  },
  {
   "cell_type": "code",
   "execution_count": 58,
   "metadata": {
    "colab": {
     "base_uri": "https://localhost:8080/",
     "height": 318
    },
    "id": "ic4osn11FGvH",
    "outputId": "69ca4169-7caa-4da1-90b8-2e83b4e4bab4"
   },
   "outputs": [
    {
     "name": "stdout",
     "output_type": "stream",
     "text": [
      "['0.00064523', '0.00503277', '0.00107156', '0.99325049']\n",
      "Normal\n"
     ]
    },
    {
     "data": {
      "text/plain": [
       "<matplotlib.image.AxesImage at 0x7f56669f7d50>"
      ]
     },
     "execution_count": 58,
     "metadata": {},
     "output_type": "execute_result"
    },
    {
     "data": {
      "image/png": "[encoded data removed]",
      "text/plain": [
       "<Figure size 432x288 with 1 Axes>"
      ]
     },
     "metadata": {
      "needs_background": "light"
     },
     "output_type": "display_data"
    }
   ],
   "source": [
    "path='/content/drive/MyDrive/chest x-ray/test/NORMAL/IM-0001-0001.jpeg'\n",
    "img,x=process(path)\n",
    "pred=densenet_model.predict(img)\n",
    "pred=pred_list(pred)\n",
    "print(pred)\n",
    "disease(pred)\n",
    "plt.imshow(x)"
   ]
  },
  {
   "cell_type": "code",
   "execution_count": 59,
   "metadata": {
    "colab": {
     "base_uri": "https://localhost:8080/",
     "height": 318
    },
    "id": "sZQIvyeeGi-e",
    "outputId": "a0bfac83-fcf8-445b-de6e-0406d6912cee"
   },
   "outputs": [
    {
     "name": "stdout",
     "output_type": "stream",
     "text": [
      "['0.57782960', '0.33476931', '0.06377076', '0.02363038']\n",
      "Disease: Covid\n"
     ]
    },
    {
     "data": {
      "text/plain": [
       "<matplotlib.image.AxesImage at 0x7f56669624d0>"
      ]
     },
     "execution_count": 59,
     "metadata": {},
     "output_type": "execute_result"
    },
    {
     "data": {
      "image/png": "[encoded data removed]",
      "text/plain": [
       "<Figure size 432x288 with 1 Axes>"
      ]
     },
     "metadata": {
      "needs_background": "light"
     },
     "output_type": "display_data"
    }
   ],
   "source": [
    "path='/content/drive/MyDrive/chest x-ray/test/COVID19/COVID19(460).jpg'\n",
    "img,x=process(path)\n",
    "pred=densenet_model.predict(img)\n",
    "pred=pred_list(pred)\n",
    "print(pred)\n",
    "disease(pred)\n",
    "plt.imshow(x)"
   ]
  },
  {
   "cell_type": "code",
   "execution_count": 60,
   "metadata": {
    "colab": {
     "base_uri": "https://localhost:8080/",
     "height": 318
    },
    "id": "U8WyxirJGsq3",
    "outputId": "25ea2d39-d2b8-40ad-cfda-0259098da786"
   },
   "outputs": [
    {
     "name": "stdout",
     "output_type": "stream",
     "text": [
      "['0.00008849', '0.00003222', '0.99987280', '0.00000648']\n",
      "Disease: Turberculosis\n"
     ]
    },
    {
     "data": {
      "text/plain": [
       "<matplotlib.image.AxesImage at 0x7f566694cdd0>"
      ]
     },
     "execution_count": 60,
     "metadata": {},
     "output_type": "execute_result"
    },
    {
     "data": {
      "image/png": "[encoded data removed]",
      "text/plain": [
       "<Figure size 432x288 with 1 Axes>"
      ]
     },
     "metadata": {
      "needs_background": "light"
     },
     "output_type": "display_data"
    }
   ],
   "source": [
    "path='/content/drive/MyDrive/chest x-ray/test/TURBERCULOSIS/Tuberculosis-660.png'\n",
    "img,x=process(path)\n",
    "pred=densenet_model.predict(img)\n",
    "pred=pred_list(pred)\n",
    "print(pred)\n",
    "disease(pred)\n",
    "plt.imshow(x)"
   ]
  },
  {
   "cell_type": "code",
   "execution_count": null,
   "metadata": {
    "id": "t7EiAUUTG0qr"
   },
   "outputs": [],
   "source": []
  }
 ],
 "metadata": {
  "accelerator": "GPU",
  "colab": {
   "name": "Chest_X_ray_disease_classification.ipynb",
   "provenance": []
  },
  "kernelspec": {
   "display_name": "Python 3",
   "language": "python",
   "name": "python3"
  },
  "language_info": {
   "codemirror_mode": {
    "name": "ipython",
    "version": 3
   },
   "file_extension": ".py",
   "mimetype": "text/x-python",
   "name": "python",
   "nbconvert_exporter": "python",
   "pygments_lexer": "ipython3",
   "version": "3.8.5"
  }
 },
 "nbformat": 4,
 "nbformat_minor": 1
}
